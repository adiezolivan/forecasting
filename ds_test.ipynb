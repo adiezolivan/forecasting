{
 "cells": [
  {
   "cell_type": "code",
   "execution_count": 1,
   "metadata": {},
   "outputs": [],
   "source": [
    "import pandas as pd\n",
    "import datetime as dt\n",
    "from datetime import datetime,timedelta"
   ]
  },
  {
   "cell_type": "markdown",
   "metadata": {},
   "source": [
    "### Current Code:"
   ]
  },
  {
   "cell_type": "code",
   "execution_count": 2,
   "metadata": {},
   "outputs": [],
   "source": [
    "def forecast_sales(start_date: datetime, end_date: datetime, sales_data: pd.DataFrame):\n",
    "    \n",
    "    days_to_forecast = (end_date - start_date).days\n",
    "    mean_daily_sales = sales_data[sales_data['date'] < start_date]['sales'].mean()\n",
    "    return mean_daily_sales * days_to_forecast"
   ]
  },
  {
   "cell_type": "code",
   "execution_count": 3,
   "metadata": {},
   "outputs": [],
   "source": [
    "def calculate_new_order (order_date: datetime, lead_time_days: int, days_to_next_order: int, \n",
    "                         sales_data: pd.DataFrame, current_stock_level: int, stock_in_transit: int):\n",
    "    \n",
    "    arrival_date = order_date + timedelta(days=lead_time_days)\n",
    "    next_arrival_date = order_date + timedelta(days=days_to_next_order + lead_time_days)\n",
    "    \n",
    "    forecast_leadtime = forecast_sales(order_date, arrival_date, sales_data)\n",
    "    estimated_stock_at_arrival = current_stock_level - forecast_leadtime + stock_in_transit \n",
    "    \n",
    "    forecast_planning_horizon = forecast_sales(arrival_date,next_arrival_date, sales_data)\n",
    "    order = max(0,forecast_planning_horizon - estimated_stock_at_arrival)\n",
    "    return order"
   ]
  },
  {
   "cell_type": "markdown",
   "metadata": {},
   "source": [
    "### Calculate Reordering\n"
   ]
  },
  {
   "cell_type": "code",
   "execution_count": 4,
   "metadata": {},
   "outputs": [],
   "source": [
    "order_date = datetime(2020,6,1)\n",
    "lead_time_days = 90\n",
    "days_to_next_order = 30\n",
    "current_stock_level = 400\n",
    "stock_in_transit = 600"
   ]
  },
  {
   "cell_type": "code",
   "execution_count": 5,
   "metadata": {},
   "outputs": [],
   "source": [
    "sales_data = pd.read_csv('sales_data.csv',parse_dates=['date'])"
   ]
  },
  {
   "cell_type": "code",
   "execution_count": 6,
   "metadata": {},
   "outputs": [
    {
     "data": {
      "text/plain": [
       "186.0598684820378"
      ]
     },
     "execution_count": 6,
     "metadata": {},
     "output_type": "execute_result"
    }
   ],
   "source": [
    "calculate_new_order (order_date=order_date, \n",
    "                   lead_time_days=lead_time_days, \n",
    "                   days_to_next_order=days_to_next_order, \n",
    "                   sales_data=sales_data, \n",
    "                   current_stock_level=current_stock_level, \n",
    "                   stock_in_transit=stock_in_transit)\n"
   ]
  },
  {
   "cell_type": "code",
   "execution_count": null,
   "metadata": {},
   "outputs": [],
   "source": []
  }
 ],
 "metadata": {
  "kernelspec": {
   "display_name": "Python 3",
   "language": "python",
   "name": "python3"
  },
  "language_info": {
   "codemirror_mode": {
    "name": "ipython",
    "version": 3
   },
   "file_extension": ".py",
   "mimetype": "text/x-python",
   "name": "python",
   "nbconvert_exporter": "python",
   "pygments_lexer": "ipython3",
   "version": "3.7.6"
  }
 },
 "nbformat": 4,
 "nbformat_minor": 4
}
